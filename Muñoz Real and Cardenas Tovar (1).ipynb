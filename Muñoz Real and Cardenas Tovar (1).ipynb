{
 "cells": [
  {
   "cell_type": "code",
   "execution_count": 12,
   "metadata": {},
   "outputs": [
    {
     "name": "stdout",
     "output_type": "stream",
     "text": [
      "How many people do you want? 5\n",
      "The name is: JOSE\n",
      "The name is: JUAN\n",
      "The name is: MELISSA\n",
      "The name is: DIEGO\n",
      "The name is: RICARDO\n",
      "Tell me the name of the person number 4\n",
      "RICARDO\n"
     ]
    }
   ],
   "source": [
    "x= int(input(\"How many people do you want? \"))\n",
    "names= []\n",
    "total=0\n",
    "for s in range (0,x):\n",
    "    a=input(\"The name is: \")\n",
    "    names.append(a)\n",
    "b=int(input(\"Tell me the name of the person number \"))\n",
    "print(names[b])\n",
    "\n",
    "\n",
    "    \n",
    "    "
   ]
  },
  {
   "cell_type": "code",
   "execution_count": null,
   "metadata": {},
   "outputs": [],
   "source": []
  }
 ],
 "metadata": {
  "kernelspec": {
   "display_name": "Python 3",
   "language": "python",
   "name": "python3"
  }
 },
 "nbformat": 4,
 "nbformat_minor": 2
}
