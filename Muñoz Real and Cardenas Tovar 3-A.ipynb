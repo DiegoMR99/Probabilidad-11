{
 "cells": [
  {
   "cell_type": "markdown",
   "metadata": {},
   "source": [
    "## ASKING QUESTIONS\n"
   ]
  },
  {
   "cell_type": "code",
   "execution_count": 1,
   "metadata": {},
   "outputs": [
    {
     "name": "stdout",
     "output_type": "stream",
     "text": [
      "what is your name?\n",
      "Your answer: DIEGO\n",
      "Hi,DIEGO\n",
      "How old are you? \n",
      "19\n",
      "really? you are 19?\n"
     ]
    }
   ],
   "source": [
    "print(\"what is your name?\")\n",
    "name=input(\"Your answer: \")\n",
    "print(f\"Hi,{name}\")\n",
    "age=int(input(\"How old are you? \\n\"))\n",
    "print(f\"really? you are {age}?\")"
   ]
  },
  {
   "cell_type": "code",
   "execution_count": 12,
   "metadata": {},
   "outputs": [
    {
     "name": "stdout",
     "output_type": "stream",
     "text": [
      "Age of student a?: 5\n",
      "Age of student b?: 5\n",
      "Age of student c?: 5\n",
      "sample mean is 5\n"
     ]
    }
   ],
   "source": [
    "X= int(input(\"Age of student a?: \"))\n",
    "y= int(input(\"Age of student b?: \"))\n",
    "z= int(input(\"Age of student c?: \"))\n",
    "a=((X+y+z)//3)\n",
    "print(f\"sample mean is {a}\")"
   ]
  },
  {
   "cell_type": "markdown",
   "metadata": {},
   "source": [
    "In this program we use the x, y, z and a as variables, every single variable ask the age of a student except the variable a, to do the question we have to use the function \"int and input\" and while the variable \"a\" saves the resul of sample mean of our datas, and  in the last part \"print(f\"sample mean is {a}\")\" is to the program show us the words \"sample mean is\" and the result of the operation in the variable a"
   ]
  }
 ],
 "metadata": {
  "kernelspec": {
   "display_name": "Python 3",
   "language": "python",
   "name": "python3"
  },
  "language_info": {
   "codemirror_mode": {
    "name": "ipython",
    "version": 3
   },
   "file_extension": ".py",
   "mimetype": "text/x-python",
   "name": "python",
   "nbconvert_exporter": "python",
   "pygments_lexer": "ipython3",
   "version": "3.7.4"
  }
 },
 "nbformat": 4,
 "nbformat_minor": 2
}
