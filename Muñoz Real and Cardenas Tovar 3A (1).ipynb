{
 "cells": [
  {
   "cell_type": "markdown",
   "metadata": {},
   "source": [
    "## IF, ELSE AND ELIF"
   ]
  },
  {
   "cell_type": "code",
   "execution_count": 1,
   "metadata": {},
   "outputs": [
    {
     "name": "stdout",
     "output_type": "stream",
     "text": [
      "What is your name? \n",
      "My name is: DIEGO\n",
      "Hi DIEGO, i just want to ask you some questions \n",
      "- Yeah of course\n",
      "Do you study?: yes\n",
      "What are you studying?: mecatronica\n",
      "It is a nice carreer\n",
      "How old are you?: 19\n",
      "You are an adult\n",
      "Do you have best a firend? yes\n",
      "What is he name?l\n",
      "Do you like some sport? yes\n",
      "Which is that sport? soccer\n",
      "And do you practice that sport? yes\n",
      "What is your favorite color? y\n",
      "That is my favorite color too\n",
      "Do you like the movies? yes\n",
      "What is your favorite movie? pulp\n",
      "Do you want to more questions? no\n",
      "Okey it is all for today, see you later.\n"
     ]
    }
   ],
   "source": [
    "print(\"What is your name? \")\n",
    "name= input(\"My name is: \")\n",
    "print(f\"Hi {name}, i just want to ask you some questions \")\n",
    "print (\"- Yeah of course\")\n",
    "ask1= input(\"Do you study?: \")\n",
    "if ask1 == \"yes\":\n",
    "    input(\"What are you studying?: \")\n",
    "    print (\"That is a nice carreer\")\n",
    "elif ask1 == \"no\":\n",
    "    ask2=input(\"So are you working?: \")\n",
    "    if ask2 == \"yes\":\n",
    "         print (\"Good, you dont lose your time\")\n",
    "    elif ask2== \"no\":\n",
    "         print (\"You should do something with your time\")\n",
    "age= int(input(\"How old are you?: \"))\n",
    "if age> 17:\n",
    "    print (\"You are an adult\")\n",
    "elif age< 17:\n",
    "    print (\"You are too young \")\n",
    "ask3= input(\"Do you have best a firend?: \")\n",
    "if ask3 == \"yes\":\n",
    "    input(\"What is he name?: \")\n",
    "elif ask3 == \"no\":\n",
    "    print(\"Maybe someday you will get have one\")\n",
    "ask4= input(\"Do you like some sport?: \")\n",
    "if ask4 == \"yes\":\n",
    "    input(\"Which is that sport?: \")\n",
    "    input(\"And do you practice that sport?: \")\n",
    "input(\"What is your favorite color?: \")\n",
    "print(\"That is my favorite color too\")\n",
    "ask5= input(\"Do you like the movies?: \")\n",
    "if ask5== \"yes\":\n",
    "    input(\"What is your favorite movie?: \")\n",
    "ask6= input(\"Do you want to more questions?: \")\n",
    "if ask6 == \"yes\":\n",
    "    print(\"Maybe in other moment, i have to go.\")\n",
    "elif ask6 == \"no\":\n",
    "    print(\"Okey it is all for today, see you later.\")\n",
    "\n",
    "\n",
    "    \n"
   ]
  },
  {
   "cell_type": "code",
   "execution_count": null,
   "metadata": {},
   "outputs": [],
   "source": []
  }
 ],
 "metadata": {
  "kernelspec": {
   "display_name": "Python 3",
   "language": "python",
   "name": "python3"
  },
  "language_info": {
   "codemirror_mode": {
    "name": "ipython",
    "version": 3
   },
   "file_extension": ".py",
   "mimetype": "text/x-python",
   "name": "python",
   "nbconvert_exporter": "python",
   "pygments_lexer": "ipython3",
   "version": "3.7.4"
  }
 },
 "nbformat": 4,
 "nbformat_minor": 2
}
