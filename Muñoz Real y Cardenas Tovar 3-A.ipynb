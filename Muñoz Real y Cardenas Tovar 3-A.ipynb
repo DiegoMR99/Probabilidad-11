{
 "cells": [
  {
   "cell_type": "markdown",
   "metadata": {},
   "source": [
    "## LEARN PYTHON 3 THE HARD WAY"
   ]
  },
  {
   "cell_type": "markdown",
   "metadata": {},
   "source": [
    "Initiali we study a little bit of python for another class, python is one of the most basically softwares of programming, with the knowledge that we are going to learn can be possible to solve future problems in the creation of our proyects"
   ]
  },
  {
   "cell_type": "code",
   "execution_count": 6,
   "metadata": {},
   "outputs": [
    {
     "name": "stdout",
     "output_type": "stream",
     "text": [
      "hello world\n"
     ]
    }
   ],
   "source": [
    "print (\"hello world\")\n"
   ]
  },
  {
   "cell_type": "markdown",
   "metadata": {},
   "source": [
    "## Comments and Pound Characters\n"
   ]
  },
  {
   "cell_type": "markdown",
   "metadata": {},
   "source": [
    "In this part of the class we learn about the most basic function in python that is \"print\", specificaly, the function is the main order that you give to the program to do whatever do you want in order to programming a serial of variables or functions."
   ]
  },
  {
   "cell_type": "code",
   "execution_count": 15,
   "metadata": {},
   "outputs": [
    {
     "data": {
      "text/plain": [
       "<function print>"
      ]
     },
     "execution_count": 15,
     "metadata": {},
     "output_type": "execute_result"
    }
   ],
   "source": [
    "print#asdasdasd"
   ]
  },
  {
   "cell_type": "markdown",
   "metadata": {},
   "source": [
    "this sign is used to create comments, that will not affect to the program it is only use for use such a type of follow and known your own steps"
   ]
  },
  {
   "cell_type": "markdown",
   "metadata": {},
   "source": [
    "## Number and maths "
   ]
  },
  {
   "cell_type": "code",
   "execution_count": 30,
   "metadata": {},
   "outputs": [
    {
     "name": "stdout",
     "output_type": "stream",
     "text": [
      "+\n",
      "-\n",
      "/\n",
      "*\n",
      "%\n",
      ">\n",
      "8\n"
     ]
    }
   ],
   "source": [
    " print(\"+\")\n",
    " print(\"-\")   \n",
    " print(\"/\")\n",
    " print(\"*\")\n",
    " print(\"%\")\n",
    " print(\">\")\n",
    "a= 5\n",
    "b= 3\n",
    "print(a+b)"
   ]
  },
  {
   "cell_type": "markdown",
   "metadata": {},
   "source": [
    " Every language has this kind of options to compute numbers and solve some problems, most of this in paticulary are easy to type in python\n"
   ]
  },
  {
   "cell_type": "markdown",
   "metadata": {},
   "source": [
    "## VARIABLES AND NAMES \n"
   ]
  },
  {
   "cell_type": "code",
   "execution_count": 29,
   "metadata": {},
   "outputs": [
    {
     "name": "stdout",
     "output_type": "stream",
     "text": [
      "The formula to calculate velocity is d/t\n",
      "Where d is equal distance and t is time\n"
     ]
    }
   ],
   "source": [
    "distance= \"d\"\n",
    "time= \"t\"\n",
    "velocity= \"d/t\"\n",
    "d= \"distance\"\n",
    "t= \"time\"\n",
    "print(\"The formula to calculate velocity is\", velocity)\n",
    "print(\"Where d is equal\", d, \"and t is\", t)"
   ]
  },
  {
   "cell_type": "markdown",
   "metadata": {},
   "source": [
    "As you see in the example of the top, we define some variables in this case with the formula of the velocity, the variables are represented by letters or numbers, this is use to do the process faster and efficient respectecly with the order that you want to."
   ]
  },
  {
   "cell_type": "markdown",
   "metadata": {},
   "source": [
    "## More Variables and Printing\n"
   ]
  },
  {
   "cell_type": "code",
   "execution_count": 31,
   "metadata": {},
   "outputs": [
    {
     "name": "stdout",
     "output_type": "stream",
     "text": [
      "My name is Diego and my partner is Jovan and both have 19 years old\n"
     ]
    }
   ],
   "source": [
    "a= \"Diego\"\n",
    "b= \"Jovan\"\n",
    "c= \"19 years old\"\n",
    "print(\"My name is\", a, \"and my partner is\", b, \"and both have\", c)\n"
   ]
  },
  {
   "cell_type": "markdown",
   "metadata": {},
   "source": [
    "In this example we use more variables to create a text, in this case with the name and the age of my partner, is practicaly the same example than the last, but, use more kind of variables to do the order"
   ]
  },
  {
   "cell_type": "markdown",
   "metadata": {},
   "source": [
    "## Strings and Text\n"
   ]
  },
  {
   "cell_type": "code",
   "execution_count": 54,
   "metadata": {},
   "outputs": [
    {
     "name": "stdout",
     "output_type": "stream",
     "text": [
      "there are 25 kinds of dogs in the contest\n",
      "10 of them have more of 3 years\n"
     ]
    }
   ],
   "source": [
    "kinds_of_dogs= 25\n",
    "b= \"{} of them have more of 3 years\"\n",
    "c=10\n",
    "a= f\"there are {kinds_of_dogs} kinds of dogs in the contest\"\n",
    "print(a)\n",
    "print (b.format(c))\n"
   ]
  },
  {
   "cell_type": "markdown",
   "metadata": {},
   "source": [
    "This example show us how to use more difficult and complicated strings using text and other options, this is usually used when you want to export certain data and move to another point where ypu are progrsmming the process."
   ]
  },
  {
   "cell_type": "markdown",
   "metadata": {},
   "source": [
    "## More Printing \n"
   ]
  },
  {
   "cell_type": "code",
   "execution_count": 62,
   "metadata": {},
   "outputs": [
    {
     "name": "stdout",
     "output_type": "stream",
     "text": [
      "we saw the film joker\n",
      "we think that is the best movie in the 2019\n"
     ]
    }
   ],
   "source": [
    "a= \"the best\"\n",
    "c= \"joker\"\n",
    "print( f\"we saw the film {c}\")\n",
    "print(\"we think that is {} movie in the 2019\".format(a))\n"
   ]
  },
  {
   "cell_type": "markdown",
   "metadata": {},
   "source": [
    "This excercise is only printed a lot of variables to make a little text, using one process for each letter and finally when you used that for printed in an addition you will get the same result that younorder in the variables."
   ]
  },
  {
   "cell_type": "markdown",
   "metadata": {},
   "source": [
    "## Printing, Printing "
   ]
  },
  {
   "cell_type": "code",
   "execution_count": 67,
   "metadata": {},
   "outputs": [
    {
     "name": "stdout",
     "output_type": "stream",
     "text": [
      " 21 11 9\n",
      " Rolando Fabian Brandon\n",
      "those are the names and ages of my  brothers\n"
     ]
    }
   ],
   "source": [
    "formater = \" {} {} {}\"\n",
    "print (formater.format (21, 11, 9))\n",
    "print (formater.format (\"Rolando\", \"Fabian\", \"Brandon\"))\n",
    "print (\"those are the ages and names of my  brothers\")"
   ]
  },
  {
   "cell_type": "markdown",
   "metadata": {},
   "source": [
    "In this exercise the writer expose how to complicated the use of srtings using the strings like the last exercise, with a process, we just did an example "
   ]
  },
  {
   "cell_type": "markdown",
   "metadata": {},
   "source": [
    "## Printing, Printing, Printing\n",
    "\n",
    "The writer said us  that maybe will not understand that now but if we do more exercises we can reach the point to understand, the example is a text with the days and the months is a serial of strings and as the text a lot of prints for each of the process."
   ]
  },
  {
   "cell_type": "markdown",
   "metadata": {},
   "source": [
    "## What Was That?\n",
    "\n",
    "In this exercise we watch an option that is no explained in that exercise but, in this part of the text the exercise beginning with that explanation, this is called a escape sequence using a backslash to add more thing or variables into the string that is doing now, exist a lot of kind of escape sequences such\\\\, \\a, \\b, \\c, and several others that are used for specifical cases."
   ]
  },
  {
   "cell_type": "code",
   "execution_count": null,
   "metadata": {},
   "outputs": [],
   "source": []
  }
 ],
 "metadata": {
  "kernelspec": {
   "display_name": "Python 3",
   "language": "python",
   "name": "python3"
  },
  "language_info": {
   "codemirror_mode": {
    "name": "ipython",
    "version": 3
   },
   "file_extension": ".py",
   "mimetype": "text/x-python",
   "name": "python",
   "nbconvert_exporter": "python",
   "pygments_lexer": "ipython3",
   "version": "3.7.4"
  }
 },
 "nbformat": 4,
 "nbformat_minor": 2
}
